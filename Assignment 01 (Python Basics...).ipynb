{
 "cells": [
  {
   "cell_type": "markdown",
   "metadata": {},
   "source": [
    "# Part -1 Python Basics (Variables)"
   ]
  },
  {
   "cell_type": "markdown",
   "metadata": {},
   "source": [
    "1. Print Your Name with your Father name and Date of birth using suitable escape sequence charactor"
   ]
  },
  {
   "cell_type": "code",
   "execution_count": null,
   "metadata": {},
   "outputs": [],
   "source": [
    "name = \"Muneeb Khan\"\n",
    "father_name = \"Sajid khan\"\n",
    "dob = \"24 December 2004\"\n",
    "\n",
    "print(\"Name:\\t\\t\" + name)\n",
    "print(\"Father's Name:\\t\" + father_name)\n",
    "print(\"Date of Birth:\\t\" + dob)\n"
   ]
  },
  {
   "cell_type": "markdown",
   "metadata": {},
   "source": [
    "2. Write your small bio using variables and print it using print function"
   ]
  },
  {
   "cell_type": "code",
   "execution_count": null,
   "metadata": {},
   "outputs": [],
   "source": [
    "name = \"Muneeb Khan\"\n",
    "father_name = \"Sajid Khan\"\n",
    "dob = \"24 December 2004\"\n",
    "birth_place = \"Karachi, Pakistan\"\n",
    "education = \"bachlor's(on going)\"\n",
    "hobbies = \"Gym, jogging, and playing snooker\"\n",
    "\n",
    "bio = (\n",
    "    f\"My name is {name}. I was born on {dob} in {birth_place}. \"\n",
    "    f\"My father's name is {father_name}. I have completed my {education}. \"\n",
    "    f\"In my free time, I enjoy {hobbies}.\"\n",
    ")\n",
    "\n",
    "print(bio)\n"
   ]
  },
  {
   "cell_type": "markdown",
   "metadata": {},
   "source": [
    "3. Write a program in which use all the operators we can use in Python"
   ]
  },
  {
   "cell_type": "code",
   "execution_count": null,
   "metadata": {},
   "outputs": [],
   "source": [
    "a = 10\n",
    "b = 3\n",
    "\n",
    "print(\"Arithmetic Operators:\")\n",
    "print(f\"a + b = {a + b}\")   \n",
    "print(f\"a - b = {a - b}\")   \n",
    "print(f\"a * b = {a * b}\")  \n",
    "print(f\"a / b = {a / b}\")   \n",
    "print(f\"a % b = {a % b}\")   \n",
    "print(f\"a ** b = {a ** b}\")\n",
    "print(f\"a // b = {a // b}\") \n",
    "\n",
    "\n",
    "c = 5\n",
    "print(\"\\nAssignment Operators:\")\n",
    "c += 2\n",
    "print(f\"c += 2: {c}\")\n",
    "c -= 2\n",
    "print(f\"c -= 2: {c}\")\n",
    "c *= 2\n",
    "print(f\"c *= 2: {c}\")\n",
    "c /= 2\n",
    "print(f\"c /= 2: {c}\")\n",
    "c %= 2\n",
    "print(f\"c %= 2: {c}\")\n",
    "c **= 2\n",
    "print(f\"c **= 2: {c}\")\n",
    "c //= 2\n",
    "print(f\"c //= 2: {c}\")\n",
    "\n",
    "d = 10\n",
    "e = 20\n",
    "print(\"\\nComparison Operators:\")\n",
    "print(f\"d == e: {d == e}\") \n",
    "print(f\"d != e: {d != e}\") \n",
    "print(f\"d > e: {d > e}\")    \n",
    "print(f\"d < e: {d < e}\")    \n",
    "print(f\"d >= e: {d >= e}\")  \n",
    "print(f\"d <= e: {d <= e}\") \n",
    "\n",
    "\n",
    "f = True\n",
    "g = False\n",
    "print(\"\\nLogical Operators:\")\n",
    "print(f\"f and g: {f and g}\") \n",
    "print(f\"f or g: {f or g}\")   \n",
    "print(f\"not f: {not f}\")     \n",
    "\n",
    "# \n",
    "h = 4  \n",
    "i = 5 \n",
    "print(\"\\nBitwise Operators:\")\n",
    "print(f\"h & i: {h & i}\")  \n",
    "print(f\"h | i: {h | i}\")  \n",
    "print(f\"h ^ i: {h ^ i}\")  \n",
    "print(f\"~h: {~h}\")        \n",
    "print(f\"h << 1: {h << 1}\")\n",
    "print(f\"h >> 1: {h >> 1}\")\n",
    "\n",
    "\n",
    "j = [1, 2, 3, 4, 5]\n",
    "print(\"\\nMembership Operators:\")\n",
    "print(f\"3 in j: {3 in j}\")      \n",
    "print(f\"6 not in j: {6 not in j}\") \n",
    "\n",
    "\n",
    "k = 10\n",
    "l = 10\n",
    "m = [1, 2, 3]\n",
    "n = [1, 2, 3]\n",
    "print(\"\\nIdentity Operators:\")\n",
    "print(f\"k is l: {k is l}\")    \n",
    "print(f\"m is n: {m is n}\")     \n",
    "print(f\"m == n: {m == n}\")    \n"
   ]
  },
  {
   "cell_type": "markdown",
   "metadata": {},
   "source": [
    "4. Completes the following steps of small task:\n",
    "    - Mention Marks of English , Islamiat and Maths out of 100 in 3 different variables\n",
    "    - Mention Variable of Total Marks and assign 300 to it\n",
    "    - Calculate Percentage"
   ]
  },
  {
   "cell_type": "code",
   "execution_count": null,
   "metadata": {},
   "outputs": [],
   "source": [
    "english_marks = 85  \n",
    "islamiat_marks = 90  \n",
    "maths_marks = 95  \n",
    "\n",
    "total_marks = 300\n",
    "\n",
    "obtained_marks = english_marks + islamiat_marks + maths_marks\n",
    "percentage = (obtained_marks / total_marks) * 100\n",
    "\n",
    "print(f\"Marks obtained in English: {english_marks}\")\n",
    "print(f\"Marks obtained in Islamiat: {islamiat_marks}\")\n",
    "print(f\"Marks obtained in Maths: {maths_marks}\")\n",
    "print(f\"Total Marks: {total_marks}\")\n",
    "print(f\"Obtained Marks: {obtained_marks}\")\n",
    "print(f\"Percentage: {percentage:.2f}%\")\n"
   ]
  },
  {
   "cell_type": "markdown",
   "metadata": {},
   "source": [
    "# Part -2 Python Basics (Conditional Statements)"
   ]
  },
  {
   "cell_type": "markdown",
   "metadata": {},
   "source": [
    "1) A company decided to give bonus of 5% to employee if his/her year of service is more than 5 years.\n",
    "Ask user for their salary and year of service and print the net bonus amount."
   ]
  },
  {
   "cell_type": "code",
   "execution_count": 6,
   "metadata": {},
   "outputs": [],
   "source": [
    "salary = float(input(\"Enter your salary: \"))\n",
    "years_of_service = int(input(\"Enter your years of service: \"))\n",
    "\n",
    "bonus_percentage = 0.05\n",
    "\n",
    "if years_of_service > 5:\n",
    "    bonus = salary * bonus_percentage\n",
    "    print(f\"Congratulations! You have received a bonus of: ${bonus:.2f}\")\n",
    "else:\n",
    "    print(\"Sorry, you are not eligible for a bonus this year.\")\n",
    "\n",
    "if years_of_service > 5:\n",
    "    net_salary = salary + bonus\n",
    "    print(f\"Your net salary after bonus is: ${net_salary:.2f}\")\n"
   ]
  },
  {
   "cell_type": "markdown",
   "metadata": {},
   "source": [
    "\n",
    "2) Write a program to check whether a person is eligible for voting or not. (accept age from user) if age is greater than 17 eligible otherwise not eligible"
   ]
  },
  {
   "cell_type": "code",
   "execution_count": 7,
   "metadata": {},
   "outputs": [],
   "source": [
    "age = int(input(\"Enter your age: \"))\n",
    "\n",
    "if age > 17:\n",
    "    print(\"You are eligible for voting.\")\n",
    "else:\n",
    "    print(\"You are not eligible for voting.\")\n"
   ]
  },
  {
   "cell_type": "markdown",
   "metadata": {},
   "source": [
    "\n",
    "3) Write a program to check whether a number entered by user is even or odd."
   ]
  },
  {
   "cell_type": "code",
   "execution_count": 8,
   "metadata": {},
   "outputs": [],
   "source": [
    "#Type your code here\n",
    "number = int(input(\"Enter a number: \"))\n",
    "\n",
    "if number % 2 == 0:\n",
    "    print(f\"The number {number} is even.\")\n",
    "else:\n",
    "    print(f\"The number {number} is odd.\")\n"
   ]
  },
  {
   "cell_type": "markdown",
   "metadata": {},
   "source": [
    "4) Write a program to check whether a number is divisible by 7 or not.\n",
    "Show Answer"
   ]
  },
  {
   "cell_type": "code",
   "execution_count": 9,
   "metadata": {},
   "outputs": [],
   "source": [
    "#Type your code here\n",
    "number = int(input(\"Enter a number: \"))\n",
    "\n",
    "if number % 7 == 0:\n",
    "    print(f\"The number {number} is divisible by 7.\")\n",
    "else:\n",
    "    print(f\"The number {number} is not divisible by 7.\")\n"
   ]
  },
  {
   "cell_type": "markdown",
   "metadata": {},
   "source": [
    "5) Write a program to display \n",
    "\"Hello\" if a number entered by user is a multiple of five , otherwise print \"Bye\"."
   ]
  },
  {
   "cell_type": "code",
   "execution_count": 11,
   "metadata": {},
   "outputs": [],
   "source": [
    "#Type your code here\n",
    "number = int(input(\"Enter a number: \"))\n",
    "\n",
    "if number % 5 == 0:\n",
    "    print(\"Hello\")\n",
    "else:\n",
    "    print(\"Bye\")\n"
   ]
  },
  {
   "cell_type": "markdown",
   "metadata": {},
   "source": [
    "7) Write a program to display the last digit of a number.\n"
   ]
  },
  {
   "cell_type": "code",
   "execution_count": 12,
   "metadata": {},
   "outputs": [],
   "source": [
    "#Type your code here\n",
    "number = int(input(\"Enter a number: \"))\n",
    "last_digit = number % 10\n",
    "\n",
    "print(f\"The last digit of the number {number} is {last_digit}.\")\n"
   ]
  },
  {
   "cell_type": "markdown",
   "metadata": {},
   "source": [
    "9) Take values of length and breadth of a rectangle from user and print if it is square or rectangle."
   ]
  },
  {
   "cell_type": "code",
   "execution_count": 14,
   "metadata": {},
   "outputs": [],
   "source": [
    "#Type your code here \n",
    "length = float(input(\"Enter the length of the rectangle: \"))\n",
    "breadth = float(input(\"Enter the breadth of the rectangle: \"))\n",
    "\n",
    "if length == breadth:\n",
    "    print(\"It is a square.\")\n",
    "else:\n",
    "    print(\"It is a rectangle.\")\n"
   ]
  },
  {
   "cell_type": "markdown",
   "metadata": {},
   "source": [
    "10) Take two int values from user and print greatest among them."
   ]
  },
  {
   "cell_type": "code",
   "execution_count": 15,
   "metadata": {},
   "outputs": [],
   "source": [
    "# Type your code here\n",
    "num1 = int(input(\"Enter the first number: \"))\n",
    "num2 = int(input(\"Enter the second number: \"))\n",
    "\n",
    "if num1 > num2:\n",
    "    print(f\"The greatest number is {num1}.\")\n",
    "elif num2 > num1:\n",
    "    print(f\"The greatest number is {num2}.\")\n",
    "else:\n",
    "    print(\"Both numbers are equal.\")\n"
   ]
  },
  {
   "cell_type": "markdown",
   "metadata": {},
   "source": [
    "11) A shop will give discount of 10% if the cost of purchased quantity is more than 1000.\n",
    "Ask user for quantity\n",
    "Suppose, one unit will cost 100.\n",
    "Judge and print total cost for user."
   ]
  },
  {
   "cell_type": "code",
   "execution_count": 16,
   "metadata": {},
   "outputs": [],
   "source": [
    "#Type your code here\n",
    "unit_cost = 100\n",
    "\n",
    "quantity = int(input(\"Enter the quantity of items: \"))\n",
    "\n",
    "total_cost = unit_cost * quantity\n",
    "if total_cost > 1000:\n",
    "    discount = total_cost * 0.10\n",
    "    total_cost -= discount\n",
    "\n",
    "print(f\"The total cost is {total_cost}.\")\n"
   ]
  },
  {
   "cell_type": "markdown",
   "metadata": {},
   "source": [
    "12) A school has following rules for grading system:\n",
    "\n",
    "a. Below 25 - F\n",
    "\n",
    "b. 25 to 45 - E\n",
    "\n",
    "c. 45 to 50 - D\n",
    "\n",
    "d. 50 to 60 - C\n",
    "\n",
    "e. 60 to 80 - B\n",
    "\n",
    "f. Above 80 - A\n",
    "\n",
    "Ask user to enter marks and print the corresponding grade."
   ]
  },
  {
   "cell_type": "code",
   "execution_count": 2,
   "metadata": {},
   "outputs": [],
   "source": [
    "#Type your code here\n",
    "marks = float(input(\"Enter marks: \"))  # Taking input from user\n",
    "if marks < 25:\n",
    "        grade = \"F\"\n",
    "elif marks >= 25 and marks < 45:\n",
    "        grade = \"E\"\n",
    "elif marks >= 45 and marks < 50:\n",
    "        grade = \"D\"\n",
    "elif marks >= 50 and marks < 60:\n",
    "        grade = \"C\"\n",
    "elif marks >= 60 and marks <= 80:\n",
    "        grade = \"B\"\n",
    "elif marks > 80:\n",
    "        grade = \"A\"\n",
    "else:\n",
    "        grade = \"Invalid input\"\n",
    "\n",
    "print(f\"The grade for {marks} marks is: {grade}\")\n",
    "\n"
   ]
  },
  {
   "cell_type": "markdown",
   "metadata": {},
   "source": [
    "14)A student will not be allowed to sit in exam if his/her attendence is less than 75%.\n",
    "\n",
    "Take following input from user\n",
    "\n",
    "- Number of classes held\n",
    "\n",
    "- Number of classes attended.\n",
    "\n",
    "And print\n",
    "\n",
    "- percentage of class attended\n",
    "\n",
    "- Is student is allowed to sit in exam or not.\n"
   ]
  },
  {
   "cell_type": "code",
   "execution_count": 19,
   "metadata": {},
   "outputs": [],
   "source": [
    "#Type your code here\n",
    "classes_held = int(input(\"Enter the number of classes held: \"))\n",
    "classes_attended = int(input(\"Enter the number of classes attended: \"))\n",
    "attendance_percentage = (classes_attended / classes_held) * 100\n",
    "print(f\"Percentage of classes attended: {attendance_percentage:.2f}%\")\n",
    "\n",
    "if attendance_percentage >= 75:\n",
    "       print(\"The student is allowed to sit in the exam.\")\n",
    "else:\n",
    "        print(\"The student is NOT allowed to sit in the exam.\")\n"
   ]
  },
  {
   "cell_type": "markdown",
   "metadata": {},
   "source": [
    "15) Modify the above question to allow student to sit if he/she has medical cause. Ask user if he/she has medical cause or not ( 'Y' or 'N' ) and print accordingly."
   ]
  },
  {
   "cell_type": "code",
   "execution_count": 20,
   "metadata": {},
   "outputs": [],
   "source": [
    "#Type your code here\n",
    "classes_held = int(input(\"Enter the number of classes held: \"))\n",
    "classes_attended = int(input(\"Enter the number of classes attended: \"))\n",
    "medical_cause = input(\"Do you have a medical cause? (Y/N): \").strip().upper()\n",
    "if medical_cause not in ['Y', 'N']:\n",
    "        raise ValueError(\"Invalid input for medical cause. Please enter 'Y' or 'N'.\")\n",
    "attendance_percentage = (classes_attended / classes_held) * 100\n",
    "print(f\"Percentage of classes attended: {attendance_percentage:.2f}%\")\n",
    "\n",
    "if attendance_percentage >= 75 or medical_cause == 'Y':\n",
    "        print(\"The student is allowed to sit in the exam.\")\n",
    "else:\n",
    "        print(\"The student is NOT allowed to sit in the exam.\")\n",
    "\n"
   ]
  },
  {
   "cell_type": "markdown",
   "metadata": {},
   "source": [
    "16) Write a program to check if a year is leap year or not.\n",
    "\n",
    "If a year is divisible by 4 then it is leap year but if the year is century year like 2000, 1900, 2100 then it must be divisible by 400."
   ]
  },
  {
   "cell_type": "code",
   "execution_count": 21,
   "metadata": {},
   "outputs": [],
   "source": [
    "#Type your code here\n",
    "year = 2000\n",
    "\n",
    "if year % 4 == 0:\n",
    "    if year % 100 == 0:\n",
    "        if year % 400 == 0:\n",
    "            print(f\"{year} is a leap year.\")\n",
    "        else:\n",
    "            print(f\"{year} is not a leap year.\")\n",
    "    else:\n",
    "        print(f\"{year} is a leap year.\")\n",
    "else:\n",
    "    print(f\"{year} is not a leap year.\")\n"
   ]
  },
  {
   "cell_type": "markdown",
   "metadata": {},
   "source": [
    "17) Ask user to enter age, gender ( M or F ), marital status ( Y or N ) and then using following rules print their place of service.\n",
    "\n",
    "if employee is female, then she will work only in urban areas.\n",
    "\n",
    "if employee is a male and age is in between 20 to 40 then he may work in anywhere\n",
    "\n",
    "if employee is male and age is in between 40 t0 60 then he will work in urban areas only.\n",
    "\n",
    "And any other input of age should print \"ERROR\""
   ]
  },
  {
   "cell_type": "code",
   "execution_count": 22,
   "metadata": {},
   "outputs": [],
   "source": [
    "#Type your code here\n",
    "age = input(\"Enter age: \")\n",
    "gender = input(\"Enter gender (M or F): \")\n",
    "marital_status = input(\"Enter marital status (Y or N): \")\n",
    "if age.isdigit(): \n",
    "    age = int(age)\n",
    "    \n",
    "    if gender == 'F':\n",
    "        print(\"Place of service: Urban areas\")\n",
    "    elif gender == 'M':\n",
    "        if 20 <= age <= 40:\n",
    "            print(\"Place of service: Anywhere\")\n",
    "        elif 40 < age <= 60:\n",
    "            print(\"Place of service: Urban areas only\")\n",
    "        else:\n",
    "            print(\"ERROR\")\n",
    "    else:\n",
    "        print(\"ERROR\")\n",
    "else:\n",
    "    print(\"ERROR\")\n"
   ]
  },
  {
   "cell_type": "markdown",
   "metadata": {},
   "source": [
    "6) Write a program to calculate the electricity bill (accept number of unit from user) according to the following criteria :\n",
    "     Unit                                                     Price  \n",
    "uptp 100 units                                             no charge\n",
    "Next 200 units                                              Rs 5 per unit\n",
    "After 200 units                                             Rs 10 per unit\n",
    "(For example if input unit is 350 than total bill amount is Rs.3500\n",
    "(For example if input unit is 97 than total bill amount is Rs.0\n",
    "(For example if input unit is 150 than total bill amount is Rs.750"
   ]
  },
  {
   "cell_type": "markdown",
   "metadata": {},
   "source": [
    "13) Take input of age of 3 people by user and determine oldest and youngest among them."
   ]
  },
  {
   "cell_type": "code",
   "execution_count": 18,
   "metadata": {},
   "outputs": [],
   "source": [
    "#Type your code here\n",
    "units = int(input(\"Enter the number of units consumed: \"))\n",
    "\n",
    "total_bill = 0\n",
    "if units <= 100:\n",
    "    total_bill = 0\n",
    "elif units <= 300:\n",
    "    total_bill = (units - 100) * 5\n",
    "else:\n",
    "    total_bill = 200 * 5 + (units - 300) * 10\n",
    "\n",
    "print(f\"Total bill amount: Rs. {total_bill}\")\n",
    "\n",
    "ages = []\n",
    "for i in range(3):\n",
    "    age = int(input(f\"Enter age of person {i+1}: \"))\n",
    "    ages.append(age)\n",
    "\n",
    "oldest = max(ages)\n",
    "youngest = min(ages)\n",
    "\n",
    "print(f\"Oldest person's age: {oldest} years\")\n",
    "print(f\"Youngest person's age: {youngest} years\")\n"
   ]
  }
 ],
 "metadata": {
  "kernelspec": {
   "display_name": "Python 3 (ipykernel)",
   "language": "python",
   "name": "python3"
  },
  "language_info": {
   "codemirror_mode": {
    "name": "ipython",
    "version": 3
   },
   "file_extension": ".py",
   "mimetype": "text/x-python",
   "name": "python",
   "nbconvert_exporter": "python",
   "pygments_lexer": "ipython3",
   "version": "3.11.5"
  }
 },
 "nbformat": 4,
 "nbformat_minor": 2
}
